{
 "cells": [
  {
   "cell_type": "code",
   "execution_count": 1,
   "id": "106b1ff5",
   "metadata": {
    "scrolled": false
   },
   "outputs": [
    {
     "name": "stdout",
     "output_type": "stream",
     "text": [
      "Defaulting to user installation because normal site-packages is not writeable\n",
      "Requirement already satisfied: pandas in /home/drocher228/.local/lib/python3.10/site-packages (2.0.3)\n",
      "Requirement already satisfied: python-dateutil>=2.8.2 in /home/drocher228/.local/lib/python3.10/site-packages (from pandas) (2.8.2)\n",
      "Requirement already satisfied: pytz>=2020.1 in /usr/lib/python3.10/site-packages (from pandas) (2022.7.1)\n",
      "Requirement already satisfied: tzdata>=2022.1 in /home/drocher228/.local/lib/python3.10/site-packages (from pandas) (2023.3)\n",
      "Requirement already satisfied: numpy>=1.21.0 in /home/drocher228/.local/lib/python3.10/site-packages (from pandas) (1.24.2)\n",
      "Requirement already satisfied: six>=1.5 in /usr/lib/python3.10/site-packages (from python-dateutil>=2.8.2->pandas) (1.16.0)\n",
      "\n",
      "\u001b[1m[\u001b[0m\u001b[34;49mnotice\u001b[0m\u001b[1;39;49m]\u001b[0m\u001b[39;49m A new release of pip is available: \u001b[0m\u001b[31;49m23.1.2\u001b[0m\u001b[39;49m -> \u001b[0m\u001b[32;49m23.2.1\u001b[0m\n",
      "\u001b[1m[\u001b[0m\u001b[34;49mnotice\u001b[0m\u001b[1;39;49m]\u001b[0m\u001b[39;49m To update, run: \u001b[0m\u001b[32;49mpython -m pip install --upgrade pip\u001b[0m\n",
      "Note: you may need to restart the kernel to use updated packages.\n"
     ]
    }
   ],
   "source": [
    "pip install pandas\n"
   ]
  },
  {
   "cell_type": "markdown",
   "id": "4b1b35ff",
   "metadata": {},
   "source": []
  },
  {
   "cell_type": "code",
   "execution_count": 2,
   "id": "7a4e0813",
   "metadata": {
    "scrolled": true
   },
   "outputs": [
    {
     "name": "stdout",
     "output_type": "stream",
     "text": [
      "Defaulting to user installation because normal site-packages is not writeable\n",
      "Requirement already satisfied: torchvision in /home/drocher228/.local/lib/python3.10/site-packages (0.15.2)\n",
      "Requirement already satisfied: numpy in /home/drocher228/.local/lib/python3.10/site-packages (from torchvision) (1.24.2)\n",
      "Requirement already satisfied: requests in /usr/lib/python3.10/site-packages (from torchvision) (2.28.2)\n",
      "Requirement already satisfied: torch==2.0.1 in /home/drocher228/.local/lib/python3.10/site-packages (from torchvision) (2.0.1)\n",
      "Requirement already satisfied: pillow!=8.3.*,>=5.3.0 in /usr/lib/python3.10/site-packages (from torchvision) (9.4.0)\n",
      "Requirement already satisfied: filelock in /usr/lib/python3.10/site-packages (from torch==2.0.1->torchvision) (3.12.0)\n",
      "Requirement already satisfied: typing-extensions in /usr/lib/python3.10/site-packages (from torch==2.0.1->torchvision) (4.5.0)\n",
      "Requirement already satisfied: sympy in /home/drocher228/.local/lib/python3.10/site-packages (from torch==2.0.1->torchvision) (1.11.1)\n",
      "Requirement already satisfied: networkx in /home/drocher228/.local/lib/python3.10/site-packages (from torch==2.0.1->torchvision) (3.1)\n",
      "Requirement already satisfied: jinja2 in /home/drocher228/.local/lib/python3.10/site-packages (from torch==2.0.1->torchvision) (3.1.2)\n",
      "Requirement already satisfied: nvidia-cuda-nvrtc-cu11==11.7.99 in /home/drocher228/.local/lib/python3.10/site-packages (from torch==2.0.1->torchvision) (11.7.99)\n",
      "Requirement already satisfied: nvidia-cuda-runtime-cu11==11.7.99 in /home/drocher228/.local/lib/python3.10/site-packages (from torch==2.0.1->torchvision) (11.7.99)\n",
      "Requirement already satisfied: nvidia-cuda-cupti-cu11==11.7.101 in /home/drocher228/.local/lib/python3.10/site-packages (from torch==2.0.1->torchvision) (11.7.101)\n",
      "Requirement already satisfied: nvidia-cudnn-cu11==8.5.0.96 in /home/drocher228/.local/lib/python3.10/site-packages (from torch==2.0.1->torchvision) (8.5.0.96)\n",
      "Requirement already satisfied: nvidia-cublas-cu11==11.10.3.66 in /home/drocher228/.local/lib/python3.10/site-packages (from torch==2.0.1->torchvision) (11.10.3.66)\n",
      "Requirement already satisfied: nvidia-cufft-cu11==10.9.0.58 in /home/drocher228/.local/lib/python3.10/site-packages (from torch==2.0.1->torchvision) (10.9.0.58)\n",
      "Requirement already satisfied: nvidia-curand-cu11==10.2.10.91 in /home/drocher228/.local/lib/python3.10/site-packages (from torch==2.0.1->torchvision) (10.2.10.91)\n",
      "Requirement already satisfied: nvidia-cusolver-cu11==11.4.0.1 in /home/drocher228/.local/lib/python3.10/site-packages (from torch==2.0.1->torchvision) (11.4.0.1)\n",
      "Requirement already satisfied: nvidia-cusparse-cu11==11.7.4.91 in /home/drocher228/.local/lib/python3.10/site-packages (from torch==2.0.1->torchvision) (11.7.4.91)\n",
      "Requirement already satisfied: nvidia-nccl-cu11==2.14.3 in /home/drocher228/.local/lib/python3.10/site-packages (from torch==2.0.1->torchvision) (2.14.3)\n",
      "Requirement already satisfied: nvidia-nvtx-cu11==11.7.91 in /home/drocher228/.local/lib/python3.10/site-packages (from torch==2.0.1->torchvision) (11.7.91)\n",
      "Requirement already satisfied: triton==2.0.0 in /home/drocher228/.local/lib/python3.10/site-packages (from torch==2.0.1->torchvision) (2.0.0)\n",
      "Requirement already satisfied: setuptools in /usr/lib/python3.10/site-packages (from nvidia-cublas-cu11==11.10.3.66->torch==2.0.1->torchvision) (67.6.1)\n",
      "Requirement already satisfied: wheel in /home/drocher228/.local/lib/python3.10/site-packages (from nvidia-cublas-cu11==11.10.3.66->torch==2.0.1->torchvision) (0.40.0)\n",
      "Requirement already satisfied: cmake in /home/drocher228/.local/lib/python3.10/site-packages (from triton==2.0.0->torch==2.0.1->torchvision) (3.26.1)\n",
      "Requirement already satisfied: lit in /usr/lib/python3.10/site-packages (from triton==2.0.0->torch==2.0.1->torchvision) (15.0.7.dev0)\n",
      "Requirement already satisfied: idna<4,>=2.5 in /usr/lib/python3.10/site-packages (from requests->torchvision) (3.4)\n",
      "Requirement already satisfied: urllib3<1.27,>=1.21.1 in /usr/lib/python3.10/site-packages (from requests->torchvision) (1.26.13)\n",
      "Requirement already satisfied: MarkupSafe>=2.0 in /home/drocher228/.local/lib/python3.10/site-packages (from jinja2->torch==2.0.1->torchvision) (2.1.2)\n",
      "Requirement already satisfied: mpmath>=0.19 in /home/drocher228/.local/lib/python3.10/site-packages (from sympy->torch==2.0.1->torchvision) (1.3.0)\n",
      "Requirement already satisfied: platformdirs in /usr/lib/python3.10/site-packages (from setuptools->nvidia-cublas-cu11==11.10.3.66->torch==2.0.1->torchvision) (3.2.0)\n",
      "Requirement already satisfied: jaraco.text in /usr/lib/python3.10/site-packages (from setuptools->nvidia-cublas-cu11==11.10.3.66->torch==2.0.1->torchvision) (3.11.1)\n",
      "Requirement already satisfied: more-itertools in /usr/lib/python3.10/site-packages (from setuptools->nvidia-cublas-cu11==11.10.3.66->torch==2.0.1->torchvision) (9.1.0)\n",
      "Requirement already satisfied: ordered-set in /usr/lib/python3.10/site-packages (from setuptools->nvidia-cublas-cu11==11.10.3.66->torch==2.0.1->torchvision) (4.1.0)\n",
      "Requirement already satisfied: packaging in /usr/lib/python3.10/site-packages (from setuptools->nvidia-cublas-cu11==11.10.3.66->torch==2.0.1->torchvision) (23.0)\n",
      "Requirement already satisfied: tomli in /usr/lib/python3.10/site-packages (from setuptools->nvidia-cublas-cu11==11.10.3.66->torch==2.0.1->torchvision) (2.0.1)\n",
      "Requirement already satisfied: validate-pyproject in /usr/lib/python3.10/site-packages (from setuptools->nvidia-cublas-cu11==11.10.3.66->torch==2.0.1->torchvision) (0.12.2.post1.dev0+g2940279.d20230328)\n",
      "Requirement already satisfied: jaraco.functools in /usr/lib/python3.10/site-packages (from jaraco.text->setuptools->nvidia-cublas-cu11==11.10.3.66->torch==2.0.1->torchvision) (3.6.0)\n",
      "Requirement already satisfied: jaraco.context>=4.1 in /usr/lib/python3.10/site-packages (from jaraco.text->setuptools->nvidia-cublas-cu11==11.10.3.66->torch==2.0.1->torchvision) (4.3.0)\n",
      "Requirement already satisfied: autocommand in /usr/lib/python3.10/site-packages (from jaraco.text->setuptools->nvidia-cublas-cu11==11.10.3.66->torch==2.0.1->torchvision) (2.2.2)\n",
      "Requirement already satisfied: inflect in /usr/lib/python3.10/site-packages (from jaraco.text->setuptools->nvidia-cublas-cu11==11.10.3.66->torch==2.0.1->torchvision) (6.0.4)\n",
      "Requirement already satisfied: fastjsonschema<=3,>=2.16.2 in /usr/lib/python3.10/site-packages (from validate-pyproject->setuptools->nvidia-cublas-cu11==11.10.3.66->torch==2.0.1->torchvision) (2.16.3)\n",
      "Requirement already satisfied: pydantic>=1.9.1 in /usr/lib/python3.10/site-packages (from inflect->jaraco.text->setuptools->nvidia-cublas-cu11==11.10.3.66->torch==2.0.1->torchvision) (1.10.7)\n",
      "Note: you may need to restart the kernel to use updated packages.\n"
     ]
    }
   ],
   "source": [
    "pip install torchvision"
   ]
  },
  {
   "cell_type": "code",
   "execution_count": 1,
   "id": "04dd8f16",
   "metadata": {
    "scrolled": true
   },
   "outputs": [],
   "source": [
    "import torch\n",
    "from torch.utils.data import DataLoader\n",
    "from pathlib import Path\n",
    "import torch.nn as nn\n",
    "from torchvision.io import read_image\n",
    "from torch.utils.data import Dataset\n",
    "from random import randint\n",
    "from torchvision.transforms import Resize\n",
    "from torch.utils.data import random_split\n",
    "from PIL import Image\n",
    "from torchvision import transforms\n",
    "import pandas as pd\n",
    "import csv\n",
    "import matplotlib.pyplot as plt"
   ]
  },
  {
   "cell_type": "code",
   "execution_count": 63,
   "id": "462fd96d",
   "metadata": {},
   "outputs": [],
   "source": [
    "class Net(nn.Module):\n",
    "    def __init__(self):\n",
    "        super(Net, self).__init__()\n",
    "        \n",
    "        self.conv1 = nn.Conv2d(in_channels=3, out_channels=6, kernel_size=5, padding=0)\n",
    "        self.act1  = nn.ReLU()\n",
    "        self.bn1   = nn.BatchNorm2d(6)\n",
    "        self.pool1 = nn.AvgPool2d(kernel_size=2, stride=2)\n",
    "       \n",
    "        self.conv2 = nn.Conv2d(in_channels=6, out_channels=12, kernel_size=5, padding=0)\n",
    "        self.act2  = nn.ReLU()\n",
    "        self.bn2   = nn.BatchNorm2d(12)\n",
    "        self.pool2 = nn.AvgPool2d(kernel_size=2, stride=2)\n",
    "        \n",
    "        self.conv3 = nn.Conv2d(in_channels=12, out_channels=24, kernel_size=5, padding=0)\n",
    "        self.act3  = nn.ReLU()\n",
    "        self.bn3   = nn.BatchNorm2d(24)\n",
    "        self.pool3 = nn.AvgPool2d(kernel_size=2, stride=2)\n",
    "        \n",
    "        self.conv4 = nn.Conv2d(in_channels=24, out_channels=32, kernel_size=5, padding=0)\n",
    "        self.act4  = nn.ReLU()\n",
    "        self.bn4   = nn.BatchNorm2d(32)\n",
    "        self.pool4 = nn.AvgPool2d(kernel_size=2, stride=2)\n",
    "        \n",
    "        self.conv5 = nn.Conv2d(in_channels=32, out_channels=64, kernel_size=5, padding=0)\n",
    "        self.act5  = nn.ReLU()\n",
    "        self.bn5   = nn.BatchNorm2d(64)\n",
    "        self.pool5 = nn.AvgPool2d(kernel_size=2, stride=2)\n",
    "        \n",
    "        self.fc1   = nn.Linear(384, 256)\n",
    "        self.act6  = nn.ReLU()\n",
    "        \n",
    "        self.fc2   = nn.Linear(256, 128)\n",
    "        self.act7  = nn.Tanh()\n",
    "        \n",
    "        self.fc3   = nn.Linear(128, 28)\n",
    "    def forward(self, x):\n",
    "        \n",
    "        x = self.conv1(x)\n",
    "        x = self.act1(x)\n",
    "        x = self.bn1(x)\n",
    "        x = self.pool1(x)\n",
    "        \n",
    "        x = self.conv2(x)\n",
    "        x = self.act2(x)\n",
    "        x = self.bn2(x)\n",
    "        x = self.pool2(x)\n",
    "        \n",
    "        x = self.conv3(x)\n",
    "        x = self.act3(x)\n",
    "        x = self.bn3(x)\n",
    "        x = self.pool3(x)\n",
    "        \n",
    "        x = self.conv4(x)\n",
    "        x = self.act4(x)\n",
    "        x = self.bn4(x)\n",
    "        x = self.pool4(x)\n",
    "        \n",
    "        x = self.conv5(x)\n",
    "        x = self.act5(x)\n",
    "        x = self.bn5(x)\n",
    "        x = self.pool5(x)\n",
    "        \n",
    "        x = x.view(x.size(0), x.size(1) * x.size(2) * x.size(3))\n",
    "\n",
    "        x = self.fc1(x)\n",
    "        x = self.act6(x)\n",
    "        x = self.fc2(x)\n",
    "        x = self.act7(x)\n",
    "        x = self.fc3(x)\n",
    "        \n",
    "        return x"
   ]
  },
  {
   "cell_type": "code",
   "execution_count": 64,
   "id": "ca5048b6",
   "metadata": {},
   "outputs": [],
   "source": [
    "net = Net()"
   ]
  },
  {
   "cell_type": "code",
   "execution_count": 65,
   "id": "d8398970",
   "metadata": {},
   "outputs": [],
   "source": [
    "loss = nn.CrossEntropyLoss()\n",
    "optimizer = torch.optim.AdamW(net.parameters(), lr=5e-5)"
   ]
  },
  {
   "cell_type": "code",
   "execution_count": 66,
   "id": "32b5d088",
   "metadata": {},
   "outputs": [],
   "source": [
    "class CustomImageDataset(Dataset):\n",
    "    def __init__(self, img_dir, transform=None, target_transform=None):\n",
    "        full_list = list(Path(img_dir).glob(\"*.jpg\"))\n",
    "        self.images = full_list[:512]\n",
    "        \n",
    "        app_labels = pd.read_csv('app_details.csv')\n",
    "        # ui_labels = pd.read_csv('ui_details.csv')\n",
    "        labels = app_labels.Category.astype('category').cat.codes\n",
    "        self.labels = list(labels)\n",
    "        \n",
    "        # categories = set()\n",
    "        # for element in self.labels:\n",
    "        # categories.add(element)\n",
    "        # print(len(categories))\n",
    "        \n",
    "        self.transform = transform\n",
    "        self.target_transform = target_transform\n",
    "\n",
    "    def __len__(self):\n",
    "        return len(self.images)\n",
    "\n",
    "    def __getitem__(self, idx):\n",
    "        image = Image.open(self.images[idx])\n",
    "        transform = transforms.Compose([transforms.Resize((180, 320)), transforms.ToTensor()])\n",
    "        image = transform(image)\n",
    "        label = int(self.labels[idx])\n",
    "        return image, label"
   ]
  },
  {
   "cell_type": "code",
   "execution_count": 67,
   "id": "8a3d7dbe",
   "metadata": {},
   "outputs": [],
   "source": [
    "pathname = \"unique_uis/combined\"\n",
    "ds = CustomImageDataset(pathname)\n",
    "\n",
    "train_size = int(0.8 * len(ds))\n",
    "test_size = len(ds) - train_size\n",
    "train, test = random_split(ds, [train_size, test_size])\n",
    "\n",
    "train_loader = DataLoader(train, batch_size=8, shuffle=True)\n",
    "\n",
    "test_loader = DataLoader(test, batch_size=8, shuffle=False)"
   ]
  },
  {
   "cell_type": "code",
   "execution_count": 68,
   "id": "ab18289e",
   "metadata": {
    "scrolled": true
   },
   "outputs": [
    {
     "name": "stdout",
     "output_type": "stream",
     "text": [
      "ended\n"
     ]
    }
   ],
   "source": [
    "net.train()\n",
    "list_of_losses = []\n",
    "\n",
    "for epoch_index in range(10):\n",
    "    for batch, label in train_loader:\n",
    "        optimizer.zero_grad()\n",
    "        pred = net(batch)\n",
    "        loss_val = loss(pred, label)\n",
    "        list_of_losses.append(loss_val.data.cpu())\n",
    "        loss_val.backward()\n",
    "        optimizer.step()\n",
    "        \n",
    "print(\"ended\")"
   ]
  },
  {
   "cell_type": "code",
   "execution_count": 69,
   "id": "9654d9d8",
   "metadata": {},
   "outputs": [
    {
     "data": {
      "text/plain": [
       "[<matplotlib.lines.Line2D at 0x7fb530c8dd50>]"
      ]
     },
     "execution_count": 69,
     "metadata": {},
     "output_type": "execute_result"
    },
    {
     "data": {
      "image/png": "[encoded data removed]",
      "text/plain": [
       "<Figure size 640x480 with 1 Axes>"
      ]
     },
     "metadata": {},
     "output_type": "display_data"
    }
   ],
   "source": [
    "numbers = []\n",
    "for i in range(len(list_of_losses)):\n",
    "    numbers.append(i)\n",
    "plt.plot(numbers, list_of_losses)"
   ]
  },
  {
   "cell_type": "code",
   "execution_count": null,
   "id": "7033bb5b",
   "metadata": {},
   "outputs": [],
   "source": []
  }
 ],
 "metadata": {
  "kernelspec": {
   "display_name": "Python 3 (ipykernel)",
   "language": "python",
   "name": "python3"
  },
  "language_info": {
   "codemirror_mode": {
    "name": "ipython",
    "version": 3
   },
   "file_extension": ".py",
   "mimetype": "text/x-python",
   "name": "python",
   "nbconvert_exporter": "python",
   "pygments_lexer": "ipython3",
   "version": "3.10.10"
  }
 },
 "nbformat": 4,
 "nbformat_minor": 5
}
